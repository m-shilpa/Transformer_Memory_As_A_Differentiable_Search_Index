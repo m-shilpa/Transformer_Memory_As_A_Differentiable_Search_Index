{
  "nbformat": 4,
  "nbformat_minor": 0,
  "metadata": {
    "colab": {
      "name": "IR_NQ_dataset_preprocessing.ipynb",
      "provenance": [],
      "collapsed_sections": [],
      "authorship_tag": "ABX9TyMqZ/eHlHoE2VB4e0kPNF7R",
      "include_colab_link": true
    },
    "kernelspec": {
      "name": "python3",
      "display_name": "Python 3"
    },
    "language_info": {
      "name": "python"
    }
  },
  "cells": [
    {
      "cell_type": "markdown",
      "metadata": {
        "id": "view-in-github",
        "colab_type": "text"
      },
      "source": [
        "<a href=\"https://colab.research.google.com/github/m-shilpa/Transformer_Memory_As_A_Differentiable_Search_Index/blob/main/IR_NQ_dataset_preprocessing.ipynb\" target=\"_parent\"><img src=\"https://colab.research.google.com/assets/colab-badge.svg\" alt=\"Open In Colab\"/></a>"
      ]
    },
    {
      "cell_type": "markdown",
      "source": [
        "# Data Preprocessing of the NQ Dataset\n"
      ],
      "metadata": {
        "id": "HDXjwIk2b_Yq"
      }
    },
    {
      "cell_type": "markdown",
      "source": [
        "The dataset used here is the NQ Simplified train set. The dataset can be download from the below link\n",
        "\n",
        "https://ai.google.com/research/NaturalQuestions/download"
      ],
      "metadata": {
        "id": "DZC-QsgMcH-m"
      }
    },
    {
      "cell_type": "code",
      "execution_count": null,
      "metadata": {
        "colab": {
          "base_uri": "https://localhost:8080/"
        },
        "id": "EuFylaW6-GAt",
        "outputId": "862c700a-ee61-46b6-9444-9e77f4a72319"
      },
      "outputs": [
        {
          "output_type": "stream",
          "name": "stdout",
          "text": [
            "Mounted at /content/gdrive\n"
          ]
        }
      ],
      "source": [
        "# mount gdrive and unzip data\n",
        "from google.colab import drive\n",
        "drive.mount('/content/gdrive')\n"
      ]
    },
    {
      "cell_type": "code",
      "source": [
        "%%capture\n",
        "!pip install transformers[sentencepiece]\n",
        "!pip install nlp\n",
        "!pip install pytorch-lightning\n",
        "!pip install wandb"
      ],
      "metadata": {
        "id": "AeY-5KlBwxSf"
      },
      "execution_count": null,
      "outputs": []
    },
    {
      "cell_type": "code",
      "source": [
        "import os\n",
        "import string\n",
        "import pandas as pd\n",
        "import numpy as np\n",
        "import random\n",
        "import re\n",
        "from datetime import datetime\n",
        "import gzip\n",
        "import json\n",
        "\n",
        "pd.set_option('display.max_colwidth', -1)"
      ],
      "metadata": {
        "colab": {
          "base_uri": "https://localhost:8080/"
        },
        "id": "b7ffW6MAuAi-",
        "outputId": "914dd895-c901-4c78-b4f4-57b9630e0e41"
      },
      "execution_count": null,
      "outputs": [
        {
          "output_type": "stream",
          "name": "stderr",
          "text": [
            "/usr/local/lib/python3.7/dist-packages/ipykernel_launcher.py:11: FutureWarning: Passing a negative integer is deprecated in version 1.0 and will not be supported in future version. Instead, use None to not limit the column width.\n",
            "  # This is added back by InteractiveShellApp.init_path()\n"
          ]
        }
      ]
    },
    {
      "cell_type": "code",
      "source": [
        "dataset_gz_path = '/content/gdrive/MyDrive/IR/v1.0-simplified_simplified-nq-train.jsonl.gz'"
      ],
      "metadata": {
        "id": "NEu1jNEisrUh"
      },
      "execution_count": null,
      "outputs": []
    },
    {
      "cell_type": "code",
      "source": [
        "N = 50000\n",
        "\n",
        "def load_data(dataset_gz_path, N,save_csv=False):\n",
        "    print(datetime.now())\n",
        "    with gzip.open(dataset_gz_path, 'r') as f_in:\n",
        "        df = pd.json_normalize([json.loads(next(f_in).decode('utf-8')) for x in range(N)])\n",
        "\n",
        "    print(datetime.now())\n",
        "    if save_csv:\n",
        "        df.to_csv(f'data_{str(N)}.csv')\n",
        "        print(f'File saved to data_{str(N)}.csv')\n",
        "    return df"
      ],
      "metadata": {
        "id": "CVcu4mwte97s"
      },
      "execution_count": null,
      "outputs": []
    },
    {
      "cell_type": "code",
      "source": [
        "def get_data_size(dataset_gz_path):\n",
        "\n",
        "    i=0\n",
        "    with gzip.open(dataset_gz_path, 'r') as f_in:\n",
        "        while True:\n",
        "            try:\n",
        "                next(f_in)\n",
        "                i=i+1\n",
        "            except:\n",
        "                break\n",
        "    print('No. of lines in file is', i)\n",
        "\n",
        "get_data_size(dataset_gz_path) "
      ],
      "metadata": {
        "colab": {
          "base_uri": "https://localhost:8080/"
        },
        "id": "QnBJhB9IVhoq",
        "outputId": "30a6ec7e-f44b-4a50-98bd-1b598bb393cf"
      },
      "execution_count": null,
      "outputs": [
        {
          "output_type": "stream",
          "name": "stdout",
          "text": [
            "No. of lines in file is 307373\n"
          ]
        }
      ]
    },
    {
      "cell_type": "code",
      "source": [
        "load_data(dataset_gz_path, N=50000,save_csv=True)"
      ],
      "metadata": {
        "id": "GFSv1DV-R2JU"
      },
      "execution_count": null,
      "outputs": []
    },
    {
      "cell_type": "code",
      "source": [
        "df = pd.read_csv('data_50000.csv')"
      ],
      "metadata": {
        "id": "g0cgZRfoX1Tg"
      },
      "execution_count": null,
      "outputs": []
    },
    {
      "cell_type": "code",
      "source": [
        "df['question_text']"
      ],
      "metadata": {
        "colab": {
          "base_uri": "https://localhost:8080/"
        },
        "id": "IxHa9BeI7r5Z",
        "outputId": "972ee194-2772-4762-8ba3-8bcc57eb7091"
      },
      "execution_count": null,
      "outputs": [
        {
          "output_type": "execute_result",
          "data": {
            "text/plain": [
              "0        which is the most common use of opt-in e-mail marketing                       \n",
              "1        how i.met your mother who is the mother                                       \n",
              "2        what type of fertilisation takes place in humans                              \n",
              "3        who had the most wins in the nfl                                              \n",
              "4        what happened to the lost settlement of roanoke                               \n",
              "                              ...                                                      \n",
              "49995    show that the product of resistance and capacitance (rc) has the units of time\n",
              "49996    when do avery and juliette get back together                                  \n",
              "49997    when did the us pay off the revolutionary war debt off                        \n",
              "49998    come sail away come sail away with me                                         \n",
              "49999    in what country do you find the kivi                                          \n",
              "Name: question_text, Length: 50000, dtype: object"
            ]
          },
          "metadata": {},
          "execution_count": 411
        }
      ]
    },
    {
      "cell_type": "code",
      "source": [
        "len(df)"
      ],
      "metadata": {
        "colab": {
          "base_uri": "https://localhost:8080/"
        },
        "id": "lapQSeO7zxsg",
        "outputId": "4eff1637-513e-494c-a2dd-9b786b1a97d9"
      },
      "execution_count": null,
      "outputs": [
        {
          "output_type": "execute_result",
          "data": {
            "text/plain": [
              "50000"
            ]
          },
          "metadata": {},
          "execution_count": 4
        }
      ]
    },
    {
      "cell_type": "code",
      "source": [
        "print(len(df))\n",
        "print('Max no. of words/tokens in questions',df['question_text'].str.split().str.len().max())\n",
        "print('Min no. of words/tokens in questions',df['question_text'].str.split().str.len().min())"
      ],
      "metadata": {
        "colab": {
          "base_uri": "https://localhost:8080/"
        },
        "id": "VPr5DhN2667e",
        "outputId": "47d8cf7e-3fa9-40cb-ba32-1f121aed5b10"
      },
      "execution_count": null,
      "outputs": [
        {
          "output_type": "stream",
          "name": "stdout",
          "text": [
            "50000\n",
            "Max no. of words/tokens in questions 23\n",
            "Min no. of words/tokens in questions 3\n"
          ]
        }
      ]
    },
    {
      "cell_type": "code",
      "source": [
        "df.columns"
      ],
      "metadata": {
        "colab": {
          "base_uri": "https://localhost:8080/"
        },
        "id": "2D8hY7hR-Cr-",
        "outputId": "7f5eb152-00ca-42af-e8d8-1c002b009295"
      },
      "execution_count": null,
      "outputs": [
        {
          "output_type": "execute_result",
          "data": {
            "text/plain": [
              "Index(['Unnamed: 0', 'document_text', 'long_answer_candidates',\n",
              "       'question_text', 'annotations', 'document_url', 'example_id'],\n",
              "      dtype='object')"
            ]
          },
          "metadata": {},
          "execution_count": 413
        }
      ]
    },
    {
      "cell_type": "code",
      "source": [
        "# the documents contains a lot of html tags\n",
        "\n",
        "df['document_text'].iloc[0]"
      ],
      "metadata": {
        "colab": {
          "base_uri": "https://localhost:8080/",
          "height": 140
        },
        "id": "hC5Tpsrp-k3F",
        "outputId": "e982bf92-0867-4570-ffaa-8e860e815831"
      },
      "execution_count": null,
      "outputs": [
        {
          "output_type": "execute_result",
          "data": {
            "text/plain": [
              "\"Email marketing - Wikipedia <H1> Email marketing </H1> Jump to : navigation , search <Table> <Tr> <Td> </Td> <Td> ( hide ) This article has multiple issues . Please help improve it or discuss these issues on the talk page . ( Learn how and when to remove these template messages ) <Table> <Tr> <Td> </Td> <Td> This article needs additional citations for verification . Please help improve this article by adding citations to reliable sources . Unsourced material may be challenged and removed . ( September 2014 ) ( Learn how and when to remove this template message ) </Td> </Tr> </Table> <Table> <Tr> <Td> </Td> <Td> This article possibly contains original research . Please improve it by verifying the claims made and adding inline citations . Statements consisting only of original research should be removed . ( January 2015 ) ( Learn how and when to remove this template message ) </Td> </Tr> </Table> ( Learn how and when to remove this template message ) </Td> </Tr> </Table> <Table> <Tr> <Td> Part of a series on </Td> </Tr> <Tr> <Th> Internet marketing </Th> </Tr> <Tr> <Td> <Ul> <Li> Search engine optimization </Li> <Li> Local search engine optimisation </Li> <Li> Social media marketing </Li> <Li> Email marketing </Li> <Li> Referral marketing </Li> <Li> Content marketing </Li> <Li> Native advertising </Li> </Ul> </Td> </Tr> <Tr> <Th> Search engine marketing </Th> </Tr> <Tr> <Td> <Ul> <Li> Pay - per - click </Li> <Li> Cost per impression </Li> <Li> Search analytics </Li> <Li> Web analytics </Li> </Ul> </Td> </Tr> <Tr> <Th> Display advertising </Th> </Tr> <Tr> <Td> <Ul> <Li> Ad blocking </Li> <Li> Contextual advertising </Li> <Li> Behavioral targeting </Li> </Ul> </Td> </Tr> <Tr> <Th> Affiliate marketing </Th> </Tr> <Tr> <Td> <Ul> <Li> Cost per action </Li> <Li> Revenue sharing </Li> </Ul> </Td> </Tr> <Tr> <Th> Mobile advertising </Th> </Tr> <Tr> <Td> <Ul> <Li> </Li> <Li> </Li> <Li> </Li> </Ul> </Td> </Tr> </Table> <P> Email marketing is the act of sending a commercial message , typically to a group of people , using email . In its broadest sense , every email sent to a potential or current customer could be considered email marketing . It usually involves using email to send advertisements , request business , or solicit sales or donations , and is meant to build loyalty , trust , or brand awareness . Marketing emails can be sent to a purchased lead list or a current customer database . The term usually refers to sending email messages with the purpose of enhancing a merchant 's relationship with current or previous customers , encouraging customer loyalty and repeat business , acquiring new customers or convincing current customers to purchase something immediately , and sharing third - party ads . </P> <P> </P> <H2> Contents </H2> ( hide ) <Ul> <Li> 1 History </Li> <Li> 2 Types <Ul> <Li> 2.1 Transactional emails </Li> <Li> 2.2 Direct emails <Ul> <Li> 2.2. 1 Mobile email marketing </Li> </Ul> </Li> </Ul> </Li> <Li> 3 Comparison to traditional mail <Ul> <Li> 3.1 Advantages </Li> <Li> 3.2 Disadvantages </Li> </Ul> </Li> <Li> 4 Opt - in email advertising </Li> <Li> 5 Legal requirements <Ul> <Li> 5.1 Australia </Li> <Li> 5.2 Canada </Li> <Li> 5.3 European Union </Li> <Li> 5.4 United States </Li> </Ul> </Li> <Li> 6 See also </Li> <Li> 7 References </Li> </Ul> <P> </P> <H2> History </H2> <P> Email marketing has evolved rapidly alongside the technological growth of the 21st century . Prior to this growth , when emails were novelties to the majority of customers , email marketing was not as effective . In 1978 , Gary Thuerk of Digital Equipment Corporation ( DEC ) sent out the first mass email to approximately 400 potential clients via the Advanced Research Projects Agency Network ( ARPANET ) . This email resulted in $13 million worth of sales in DEC products , and highlighted the potential of marketing through mass emails . However , as email marketing developed as an effective means of direct communication , users began blocking out content from emails with filters and blocking programs . In order to effectively communicate a message through email , marketers had to develop a way of pushing content through to the end user , without being cut out by automatic filters and spam removing software . This resulted in the birth of triggered marketing emails , which are sent to specific users based on their tracked online browsing patterns . </P> <P> Historically , it has been difficult to measure the effectiveness of marketing campaigns because target markets can not be adequately defined . Email marketing carries the benefit of allowing marketers to identify returns on investment and measure and improve efficiency . Email marketing allows marketers to see feedback from users in real time , and to monitor how effective their campaign is in achieving market penetration , revealing a communication channel 's scope . At the same time , however , it also means that the more personal nature of certain advertising methods , such as television advertisements , can not be captured . </P> <H2> Types </H2> <P> Email marketing can be carried out through different types of emails : </P> <H3> Transactional emails </H3> <P> Transactional emails are usually triggered based on a customer 's action with a company . To be qualified as transactional or relationship messages , these communications ' primary purpose must be `` to facilitate , complete , or confirm a commercial transaction that the recipient has previously agreed to enter into with the sender '' along with a few other narrow definitions of transactional messaging . Triggered transactional messages include dropped basket messages , password reset emails , purchase or order confirmation emails , order status emails , reorder emails , and email receipts . </P> <P> The primary purpose of a transactional email is to convey information regarding the action that triggered it . But , due to their high open rates ( 51.3 % compared to 36.6 % for email newsletters ) , transactional emails are an opportunity to introduce or extend the email relationship with customers or subscribers ; to anticipate and answer questions ; or to cross-sell or up - sell products or services . </P> <P> Many email newsletter software vendors offer transactional email support , which gives companies the ability to include promotional messages within the body of transactional emails . There are also software vendors that offer specialized transactional email marketing services , which include providing targeted and personalized transactional email messages and running specific marketing campaigns ( such as customer referral programs ) . </P> <H3> Direct emails </H3> <P> Direct email involves sending an email solely to communicate a promotional message ( for example , a special offer or a product catalog ) . Companies usually collect a list of customer or prospect email addresses to send direct promotional messages to , or they rent a list of email addresses from service companies . Safe mail marketing is also used . </P> Mobile email marketing <P> Email marketing develops large amounts of traffic through smartphones and tablets . Marketers are researching ways to advertise to more users and to make them view advertising for longer . However , the rate of delivery is still relatively low due to better filtering - out of advertising and users having multiple email accounts for different purposes . Because emails are generated according to the tracked behavior of consumers , it is possible to send advertising which is based on the recipient 's behavior . Because of this , modern email marketing is perceived more often as a pull strategy rather than a push strategy . </P> <H2> Comparison to traditional mail </H2> <P> There are both advantages and disadvantages to using email marketing in comparison to traditional advertising mail . </P> <H3> Advantages </H3> <P> Email marketing is popular with companies for several reasons : </P> <Ul> <Li> An exact return on investment can be tracked ( `` track to basket '' ) and has proven to be high when done properly . Email marketing is often reported as second only to search marketing as the most effective online marketing tactic . </Li> <Li> Email marketing is significantly cheaper and faster than traditional mail , mainly because of the high cost and time required in a traditional mail campaign for producing the artwork , printing , addressing , and mailing . </Li> <Li> Businesses and organizations who send a high volume of emails can use an ESP ( email service provider ) to gather information about the behavior of the recipients . The insights provided by consumer response to email marketing help businesses and organizations understand and make use of consumer behavior . </Li> <Li> Email provides a cost - effective method to test different marketing content , including visual , creative , marketing copy , and multimedia assets . The data gathered by testing in the email channel can then be used across all channels of marketing campaigns , both print and digital . </Li> <Li> Advertisers can reach substantial numbers of email subscribers who have opted in ( i.e. , consented ) to receive the email . </Li> <Li> Almost half of American Internet users check or send email on a typical day , with emails delivered between 1 am and 5 am local time outperforming those sent at other times in open and click rates . </Li> <Li> Email is popular with digital marketers , rising an estimated 15 % in 2009 to £ 292 million in the UK . </Li> <Li> If compared to standard email , direct email marketing produces higher response rate and higher average order value for e-commerce businesses . </Li> </Ul> <H3> Disadvantages </H3> <P> As of mid-2016 email deliverability is still an issue for legitimate marketers . According to the report , legitimate email servers averaged a delivery rate of 73 % in the U.S. ; six percent were filtered as spam , and 22 % were missing . This lags behind other countries : Australia delivers at 90 % , Canada at 89 % , Britain at 88 % , France at 84 % , Germany at 80 % and Brazil at 79 % . </P> <P> Additionally , consumers receive on average circa 90 emails per day . </P> <P> Companies considering the use of an email marketing program must make sure that their program does not violate spam laws such as the United States ' Controlling the Assault of Non-Solicited Pornography and Marketing Act ( CAN - SPAM ) , the European Privacy and Electronic Communications Regulations 2003 , or their Internet service provider 's acceptable use policy . </P> <H2> Opt - in email advertising </H2> <P> Opt - in email advertising , or permission marketing , is a method of advertising via email whereby the recipient of the advertisement has consented to receive it . This method is one of several developed by marketers to eliminate the disadvantages of email marketing . </P> <P> Opt - in email marketing may evolve into a technology that uses a handshake protocol between the sender and receiver . This system is intended to eventually result in a high degree of satisfaction between consumers and marketers . If opt - in email advertising is used , the material that is emailed to consumers will be `` anticipated '' . It is assumed that the recipient wants to receive it , which makes it unlike unsolicited advertisements sent to the consumer . Ideally , opt - in email advertisements will be more personal and relevant to the consumer than untargeted advertisements . </P> <P> A common example of permission marketing is a newsletter sent to an advertising firm 's customers . Such newsletters inform customers of upcoming events or promotions , or new products . In this type of advertising , a company that wants to send a newsletter to their customers may ask them at the point of purchase if they would like to receive the newsletter . </P> <P> With a foundation of opted - in contact information stored in their database , marketers can send out promotional materials automatically using autoresponders -- known as drip marketing . They can also segment their promotions to specific market segments . </P> <H2> Legal requirements </H2> <H3> Australia </H3> <P> The Australian Spam Act 2003 is enforced by the Australian Communications and Media Authority , widely known as `` ACMA '' . The act defines the term unsolicited electronic messages , states how unsubscribe functions must work for commercial messages , and gives other key information . Fines range with 3 fines of AU $110,000 being issued to Virgin Blue Airlines ( 2011 ) , Tiger Airways Holdings Limited ( 2012 ) and Cellar master Wines Pty Limited ( 2013 ) . </P> <H3> Canada </H3> <P> The `` Canada Anti-Spam Law '' ( CASL ) went into effect on July 1 , 2014 . CASL requires an explicit or implicit opt - in from users , and the maximum fines for noncompliance are CA $ 1 million for individuals and $10 million for businesses . </P> <H3> European Union </H3> <P> In 2002 the European Union ( EU ) introduced the Directive on Privacy and Electronic Communications . Article 13 of the Directive prohibits the use of personal email addresses for marketing purposes . The Directive establishes the opt - in regime , where unsolicited emails may be sent only with prior agreement of the recipient ; this does not apply to business email addresses . </P> <P> The directive has since been incorporated into the laws of member states . In the UK it is covered under the Privacy and Electronic Communications ( EC Directive ) Regulations 2003 and applies to all organizations that send out marketing by some form of electronic communication . </P> <H3> United states </H3> <P> The CAN - SPAM Act of 2003 was passed by Congress as a direct response of the growing number of complaints over spam e-mails . Congress determined that the US government was showing an increased interest in the regulation of commercial electronic mail nationally , that those who send commercial e-mails should not mislead recipients over the source or content of them , and that all recipients of such emails have a right to decline them . The act authorizes a US $16,000 penalty per violation for spamming each individual recipient . However , it does not ban spam emailing outright , but imposes laws on using deceptive marketing methods through headings which are `` materially false or misleading '' . In addition there are conditions which email marketers must meet in terms of their format , their content and labeling . As a result , many commercial email marketers within the United States utilize a service or special software to ensure compliance with the act . A variety of older systems exist that do not ensure compliance with the act . To comply with the act 's regulation of commercial email , services also typically require users to authenticate their return address and include a valid physical address , provide a one - click unsubscribe feature , and prohibit importing lists of purchased addresses that may not have given valid permission . </P> <P> In addition to satisfying legal requirements , email service providers ( ESPs ) began to help customers establish and manage their own email marketing campaigns . The service providers supply email templates and general best practices , as well as methods for handling subscriptions and cancellations automatically . Some ESPs will provide insight and assistance with deliverability issues for major email providers . They also provide statistics pertaining to the number of messages received and opened , and whether the recipients clicked on any links within the messages . </P> <P> The CAN - SPAM Act was updated with some new regulations including a no - fee provision for opting out , further definition of `` sender '' , post office or private mail boxes count as a `` valid physical postal address '' and definition of `` person '' . These new provisions went into effect on July 7 , 2008 . </P> <H2> See also </H2> <Ul> <Li> CAUCE -- Coalition Against Unsolicited Commercial Email </Li> <Li> Customer engagement </Li> <Li> Suppression list </Li> <Li> Email spam - Unsolicited email marketing </Li> </Ul> <H2> References </H2> <Ol> <Li> Jump up ^ `` spam unsolicited e-mail '' . Retrieved September 19 , 2016 . </Li> <Li> Jump up ^ `` PUBLIC LAW 108 -- 187 -- DEC . 16 , 2003 117 STAT. 2699 '' ( PDF ) . U.S Government GPO . </Li> <Li> Jump up ^ ADIKESAVAN , T. MANAGEMENT INFORMATION SYSTEMS BEST PRACTICES AND APPLICATIONS IN BUSINESS . ISBN 8120348966 . Retrieved July 10 , 2015 . </Li> <Li> Jump up ^ MECLABS , content : MarketingSherpa , design : Scott McDaniel , code : Steve Beger , ( January 21 , 2009 ) . `` New Survey Data : Email 's ROI Makes Tactic Key for Marketers in 2009 '' . MarketingSherpa.com . Retrieved August 12 , 2017 . </Li> <Li> Jump up ^ Pew Internet & American Life Project , `` Tracking surveys '' , March 2000 -- March 2009 </Li> <Li> Jump up ^ How Scheduling Affects Rates . Mailermailer.com ( July 2012 ) . Retrieved on July 28 , 2013 . </Li> <Li> Jump up ^ BtoB Magazine , `` Early Email Blasts Results in Higher Click & Open Rates '' Archived 2011 - 11 - 22 at the Wayback Machine. , September 2011 </Li> <Li> Jump up ^ UK e-mail marketing predicted to rise 15 % . MediaWeek.co.uk ( 13 October 2009 ) </Li> <Li> Jump up ^ `` Why Email Marketing is King '' . Harvard Business Review ( 21 August 2012 ) </Li> <Li> Jump up ^ Roberts , A. `` Email deliverability is on the decline : report '' , ClickZ </Li> <Li> Jump up ^ Radicati , Sara . `` Email Statistics Report , 2014 - 2018 '' ( PDF ) . The Radicati Group , Inc . </Li> <Li> Jump up ^ `` Consumer Information '' . Consumer Information . Retrieved August 12 , 2017 . </Li> <Li> ^ Jump up to : Fairhead , N. ( 2003 ) `` All hail the brave new world of permission marketing via email '' ( Media 16 , August 2003 ) </Li> <Li> Jump up ^ Dilworth , Dianna ( 2007 ) . `` Ruth 's Chris Steak House sends sizzling e-mails for special occasions '' . DMNews . Retrieved February 19 , 2008 . </Li> <Li> Jump up ^ O'Brian J. & Montazemia , A. ( 2004 ) Management Information Systems ( Canada : McGraw - Hill Ryerson Ltd . ) </Li> <Li> Jump up ^ `` Spam : enforcement actions '' . Australian Communications and Media Authority . Australian Communications and Media Authority . Archived from the original on February 29 , 2016 . Retrieved August 15 , 2015 . </Li> <Li> Jump up ^ Moorcraft , Bethan . `` Law could force idle brokers back to dark ages '' . Insurance Business . Retrieved August 12 , 2017 . </Li> <Li> Jump up ^ `` Canada 's law on spam '' . Government of Canada . Retrieved July 19 , 2014 ... </Li> <Li> Jump up ^ The Privacy and Electronic Communications ( EC Directive ) Regulations 2003 Archived November 14 , 2006 , at the Wayback Machine ... Opsi.gov.uk . Retrieved on July 28 , 2013 . </Li> <Li> Jump up ^ `` CAN - SPAM Act : A Compliance Guide for Business '' . FTC.gov . BCP Business Center . Retrieved August 10 , 2017 . </Li> <Li> Jump up ^ `` FTC Approves New Rule Provision Under The CAN - SPAM Act '' . FTC.gov . June 24 , 2011 . </Li> <Li> Jump up ^ `` 16 CFR Part 316 Definitions and Implementation Under the CAN -- SPAM Act ; Final Rule '' ( PDF ) . FTC.gov . May 21 , 2008 . </Li> </Ol> Retrieved from `` https://en.wikipedia.org/w/index.php?title=Email_marketing&oldid=814071202 '' Categories : <Ul> <Li> Advertising by medium </Li> <Li> Email </Li> <Li> Digital marketing </Li> <Li> Market research </Li> <Li> Marketing techniques </Li> <Li> Online advertising </Li> <Li> Spamming </Li> </Ul> Hidden categories : <Ul> <Li> Webarchive template wayback links </Li> <Li> Wikipedia indefinitely semi-protected pages </Li> <Li> Articles needing additional references from September 2014 </Li> <Li> All articles needing additional references </Li> <Li> Articles that may contain original research from January 2015 </Li> <Li> All articles that may contain original research </Li> <Li> Articles with multiple maintenance issues </Li> <Li> All articles with unsourced statements </Li> <Li> Articles with unsourced statements from August 2017 </Li> <Li> Articles with unsourced statements from July 2015 </Li> <Li> All Wikipedia articles needing clarification </Li> <Li> Wikipedia articles needing clarification from August 2017 </Li> <Li> Articles with unsourced statements from March 2016 </Li> </Ul> <H2> </H2> <H3> </H3> <Ul> <Li> </Li> <Li> Talk </Li> <Li> </Li> <Li> </Li> <Li> </Li> </Ul> <H3> </H3> <Ul> <Li> </Li> <Li> </Li> </Ul> <H3> </H3> <Ul> </Ul> <H3> </H3> <Ul> <Li> </Li> <Li> View source </Li> <Li> </Li> </Ul> <H3> </H3> <Ul> </Ul> <H3> </H3> <H3> </H3> <Ul> <Li> </Li> <Li> Contents </Li> <Li> </Li> <Li> </Li> <Li> </Li> <Li> </Li> <Li> </Li> </Ul> <H3> </H3> <Ul> <Li> </Li> <Li> About Wikipedia </Li> <Li> </Li> <Li> </Li> <Li> </Li> </Ul> <H3> </H3> <Ul> <Li> </Li> <Li> </Li> <Li> </Li> <Li> </Li> <Li> </Li> <Li> </Li> <Li> </Li> <Li> </Li> </Ul> <H3> </H3> <Ul> <Li> </Li> <Li> </Li> <Li> </Li> </Ul> <H3> </H3> <Ul> <Li> </Li> <Li> বাংলা </Li> <Li> Български </Li> <Li> Català </Li> <Li> Čeština </Li> <Li> Español </Li> <Li> فارسی </Li> <Li> Français </Li> <Li> Italiano </Li> <Li> ಕನ್ನಡ </Li> <Li> ქართული </Li> <Li> Македонски </Li> <Li> Nederlands </Li> <Li> 日本 語 </Li> <Li> Norsk </Li> <Li> Polski </Li> <Li> Português </Li> <Li> Русский </Li> <Li> Српски / srpski </Li> <Li> Svenska </Li> <Li> தமிழ் </Li> <Li> తెలుగు </Li> <Li> ไทย </Li> <Li> Türkçe </Li> <Li> Українська </Li> <Li> Tiếng Việt </Li> <Li> 中文 </Li> 18 more </Ul> Edit links <Ul> <Li> This page was last edited on 6 December 2017 , at 19 : 06 . </Li> <Li> </Li> </Ul> <Ul> <Li> </Li> <Li> About Wikipedia </Li> <Li> </Li> <Li> </Li> <Li> </Li> <Li> </Li> <Li> </Li> <Li> </Li> </Ul> <Ul> <Li> </Li> <Li> </Li> </Ul>\""
            ],
            "application/vnd.google.colaboratory.intrinsic+json": {
              "type": "string"
            }
          },
          "metadata": {},
          "execution_count": 415
        }
      ]
    },
    {
      "cell_type": "code",
      "source": [
        "from bs4 import BeautifulSoup\n",
        "\n",
        "# using beautiful soup to remove html tags\n",
        "def remove_html(doc):\n",
        "    return BeautifulSoup(doc).text\n",
        "\n",
        "def save_processed_data_to_csv(dataset_gz_path, N,save_path=None, num_words=1000):\n",
        "    \n",
        "    if save_path ==None:\n",
        "        save_path = 'data_clipped_documents.csv'\n",
        "        \n",
        "    print(datetime.now())\n",
        "    with gzip.open(dataset_gz_path, 'r') as f_in:\n",
        "        for x in range(N):\n",
        "            if x==0:\n",
        "                header = True\n",
        "            else:\n",
        "                header = False\n",
        "            df = pd.json_normalize([json.loads(next(f_in).decode('utf-8')) ])\n",
        "            df['document_text'] = df['document_text'].apply(remove_html).str.split().str[:num_words].apply(' '.join)\n",
        "            df[['document_text', \n",
        "                  'question_text', 'document_url']].to_csv(save_path,\n",
        "                                                           mode='a',index=False, header=header)    \n",
        "\n",
        "    print(datetime.now())\n",
        "    print(f'File saved to {save_path}')\n"
      ],
      "metadata": {
        "id": "FVgsXZ7f2oJS"
      },
      "execution_count": null,
      "outputs": []
    },
    {
      "cell_type": "code",
      "source": [
        "save_processed_data_to_csv(dataset_gz_path, N=100000)"
      ],
      "metadata": {
        "colab": {
          "base_uri": "https://localhost:8080/"
        },
        "id": "RB6tnOXa3lQH",
        "outputId": "4b6a6c62-8fda-4fcf-ccc1-3c7e93627e50"
      },
      "execution_count": null,
      "outputs": [
        {
          "output_type": "stream",
          "name": "stdout",
          "text": [
            "2022-04-10 14:27:34.409798\n",
            "2022-04-10 15:31:45.702083\n",
            "File saved to data_clipped_documents.csv\n"
          ]
        }
      ]
    },
    {
      "cell_type": "code",
      "source": [
        "df = pd.read_csv('data_clipped_documents.csv')"
      ],
      "metadata": {
        "id": "rfPOBOgqmNKr"
      },
      "execution_count": null,
      "outputs": []
    },
    {
      "cell_type": "code",
      "source": [
        "df = df.reset_index()"
      ],
      "metadata": {
        "id": "6hLbHw6g0LcN"
      },
      "execution_count": null,
      "outputs": []
    },
    {
      "cell_type": "code",
      "source": [
        "df.rename(columns={'index':'doc_id'},inplace=True)"
      ],
      "metadata": {
        "id": "HDRsTR36IyCl"
      },
      "execution_count": null,
      "outputs": []
    },
    {
      "cell_type": "code",
      "source": [
        "df.columns"
      ],
      "metadata": {
        "colab": {
          "base_uri": "https://localhost:8080/"
        },
        "id": "aD3qTNsCJBm1",
        "outputId": "1c174863-f93e-4fc6-da72-c408c543316b"
      },
      "execution_count": null,
      "outputs": [
        {
          "output_type": "execute_result",
          "data": {
            "text/plain": [
              "Index(['doc_id', 'document_text', 'question_text', 'document_url'], dtype='object')"
            ]
          },
          "metadata": {},
          "execution_count": 36
        }
      ]
    },
    {
      "cell_type": "code",
      "source": [
        "df.to_csv('/content/gdrive/MyDrive/IR/data_100K_clipped_documents_1k_words.csv', index=False)"
      ],
      "metadata": {
        "id": "5w1WHph0JJN7"
      },
      "execution_count": null,
      "outputs": []
    },
    {
      "cell_type": "code",
      "source": [
        "df.head()"
      ],
      "metadata": {
        "colab": {
          "base_uri": "https://localhost:8080/",
          "height": 1000
        },
        "id": "aaHI-ZQYJQXZ",
        "outputId": "2b7e4959-f928-4240-cc36-5993ad0d30e5"
      },
      "execution_count": null,
      "outputs": [
        {
          "output_type": "execute_result",
          "data": {
            "text/plain": [
              "   doc_id  \\\n",
              "0  0        \n",
              "1  1        \n",
              "2  2        \n",
              "3  3        \n",
              "4  4        \n",
              "\n",
              "                                                                                                                                                                                                                                                                                                                                                                                                                                                                                                                                                                                                                                                                                                                                                                                                                                                                                                                                                                                                                                                                                                                                                                                                                                                                                                                                                                                                                                                                                                                                                                                                                                                                                                                                                                                                                                                                                                                                                                                                                                                                                                                                                                                                                                                                                                                                                                                                                                                                                                                                                                                                                                                                                                                                                                                                                                                                                                                                                                                                                                                                                                                                                                                                                                                                                                                                                                                                                                                                                                                                                                                                                                                                                                                                                                                                                                                                                                                                                                                                                                                                                                                                                                                                                                                                                                                                                                                                                                                                                                                                                                                                                                                                                                                                                                                                                                                                                                                                                                                                                                                                                                                                                                                                                                                                                                                                                                                                                                                                                                                                                                                                                                                                                                                                                                                                                                                                                                                                                                                                                                                                                                                                                                                                                                                                                                                                                document_text  \\\n",
              "0  Email marketing - Wikipedia Email marketing Jump to : navigation , search ( hide ) This article has multiple issues . Please help improve it or discuss these issues on the talk page . ( Learn how and when to remove these template messages ) This article needs additional citations for verification . Please help improve this article by adding citations to reliable sources . Unsourced material may be challenged and removed . ( September 2014 ) ( Learn how and when to remove this template message ) This article possibly contains original research . Please improve it by verifying the claims made and adding inline citations . Statements consisting only of original research should be removed . ( January 2015 ) ( Learn how and when to remove this template message ) ( Learn how and when to remove this template message ) Part of a series on Internet marketing Search engine optimization Local search engine optimisation Social media marketing Email marketing Referral marketing Content marketing Native advertising Search engine marketing Pay - per - click Cost per impression Search analytics Web analytics Display advertising Ad blocking Contextual advertising Behavioral targeting Affiliate marketing Cost per action Revenue sharing Mobile advertising Email marketing is the act of sending a commercial message , typically to a group of people , using email . In its broadest sense , every email sent to a potential or current customer could be considered email marketing . It usually involves using email to send advertisements , request business , or solicit sales or donations , and is meant to build loyalty , trust , or brand awareness . Marketing emails can be sent to a purchased lead list or a current customer database . The term usually refers to sending email messages with the purpose of enhancing a merchant 's relationship with current or previous customers , encouraging customer loyalty and repeat business , acquiring new customers or convincing current customers to purchase something immediately , and sharing third - party ads . Contents ( hide ) 1 History 2 Types 2.1 Transactional emails 2.2 Direct emails 2.2. 1 Mobile email marketing 3 Comparison to traditional mail 3.1 Advantages 3.2 Disadvantages 4 Opt - in email advertising 5 Legal requirements 5.1 Australia 5.2 Canada 5.3 European Union 5.4 United States 6 See also 7 References History Email marketing has evolved rapidly alongside the technological growth of the 21st century . Prior to this growth , when emails were novelties to the majority of customers , email marketing was not as effective . In 1978 , Gary Thuerk of Digital Equipment Corporation ( DEC ) sent out the first mass email to approximately 400 potential clients via the Advanced Research Projects Agency Network ( ARPANET ) . This email resulted in $13 million worth of sales in DEC products , and highlighted the potential of marketing through mass emails . However , as email marketing developed as an effective means of direct communication , users began blocking out content from emails with filters and blocking programs . In order to effectively communicate a message through email , marketers had to develop a way of pushing content through to the end user , without being cut out by automatic filters and spam removing software . This resulted in the birth of triggered marketing emails , which are sent to specific users based on their tracked online browsing patterns . Historically , it has been difficult to measure the effectiveness of marketing campaigns because target markets can not be adequately defined . Email marketing carries the benefit of allowing marketers to identify returns on investment and measure and improve efficiency . Email marketing allows marketers to see feedback from users in real time , and to monitor how effective their campaign is in achieving market penetration , revealing a communication channel 's scope . At the same time , however , it also means that the more personal nature of certain advertising methods , such as television advertisements , can not be captured . Types Email marketing can be carried out through different types of emails : Transactional emails Transactional emails are usually triggered based on a customer 's action with a company . To be qualified as transactional or relationship messages , these communications ' primary purpose must be `` to facilitate , complete , or confirm a commercial transaction that the recipient has previously agreed to enter into with the sender '' along with a few other narrow definitions of transactional messaging . Triggered transactional messages include dropped basket messages , password reset emails , purchase or order confirmation emails , order status emails , reorder emails , and email receipts . The primary purpose of a transactional email is to convey information regarding the action that triggered it . But , due to their high open rates ( 51.3 % compared to 36.6 % for email newsletters ) , transactional emails are an opportunity to introduce or extend the email relationship with customers or subscribers ; to anticipate and answer questions ; or to cross-sell or up - sell products or services . Many email newsletter software vendors offer transactional email support , which gives companies the ability to include promotional messages within the body of transactional emails . There are also software vendors that offer specialized transactional email marketing services , which include providing targeted and personalized transactional email messages and running specific marketing campaigns ( such as customer referral programs ) . Direct emails Direct email involves sending an email solely to communicate a promotional message ( for example , a special offer or a product catalog ) . Companies usually collect a list of customer or prospect email addresses to send direct promotional messages to , or they rent a list of email addresses from service companies . Safe mail marketing is also used . Mobile email marketing Email marketing develops large amounts of traffic through smartphones and tablets . Marketers are   \n",
              "1  The Mother ( How I Met Your Mother ) - wikipedia The Mother ( How I Met Your Mother ) Jump to : navigation , search Tracy McConnell How I Met Your Mother character The Mother appearing in `` The Locket '' First appearance `` Lucky Penny ( unseen ) '' `` Something New '' ( seen ) Last appearance `` Last Forever '' Created by Carter Bays Craig Thomas Portrayed by Cristin Milioti Information Aliases The Mother Gender Female Spouse ( s ) Ted Mosby Significant other ( s ) Max ( deceased former boyfriend ) Louis ( ex-boyfriend ) Children Penny Mosby ( daughter , born in 2015 , played by Lyndsy Fonseca ) Luke Mosby ( son , born in 2017 , played by David Henrie ) Nationality American Tracy McConnell , better known as `` The Mother '' , is the title character from the CBS television sitcom How I Met Your Mother . The show , narrated by Future Ted , tells the story of how Ted Mosby met The Mother . Tracy McConnell appears in 8 episodes from `` Lucky Penny '' to `` The Time Travelers '' as an unseen character ; she was first seen fully in `` Something New '' and was promoted to a main character in season 9 . The Mother is played by Cristin Milioti . The story of how Ted met The Mother is the framing device behind the series ; many facts about her are revealed throughout the series , including the fact that Ted once unwittingly owned her umbrella before accidentally leaving it behind in her apartment . Ted and The Mother meet at the Farhampton train station following Barney Stinson and Robin Scherbatsky 's wedding ; this scene is shown in `` Last Forever '' , the series finale . The Mother 's death from an unspecified terminal illness in 2024 , also revealed in the series finale , received a mixed reaction from fans . An alternate ending was released in the ninth season DVD . In the alternate ending , Tracy Mosby is still living when Ted is telling the story in 2030 . In the video , future Ted is heard saying , `` ... When I think how lucky I am to wake up next to your mom every morning , I ca n't help but be amazed how easy it all really was ... '' , indirectly stating that The Mother is alive . The video ends right after the train passes at Farhampton station and credits start rolling , implying that Ted never went back to Robin as he lived a successful married life with Tracy Mosby . Contents ( hide ) 1 Casting 2 Character history 2.1 Name 3 Death 4 Notes 5 References Casting ( edit ) During its first eight seasons , the successful sitcom How I Met Your Mother often hinted at the unseen character of The Mother . Well - known actresses often made guest appearances on the show . Many fans expected that another would play one of the most - wanted roles in Hollywood , but creators Carter Bays and Craig Thomas wanted an unknown . Using Anne Hathaway and Amy Adams as examples , Thomas said that `` We did n't want it to be a big famous star because we did n't want the wider audience to have associations with whatever actress this would be ... The whole idea is that Ted 's never seen this woman before , so it better feel that way to the audience '' , similar to how Cobie Smulders being cast as Robin Scherbatsky had `` kept the show alive '' when it began . Bays and Thomas also did not want a large casting call . They chose Cristin Milioti after seeing her on 30 Rock and Once ; her musical ability was also helpful , as The Mother had been described as a band member . After competing for the role against at least two others , Milioti filmed her first scene -- for the last episode of season 8 -- having never watched How I Met Your Mother ; she recalled , `` I had ignorance on my side . So I did n't know what it meant . '' Milioti learned of the character 's importance only after binge watching the show during the summer . Character history ( edit ) The Mother was born on September 19 , 1984 . The Mother , joined by her roommate Kelly awaits the arrival of her boyfriend Max only to receive a call informing her of his death . After the funeral service , she returns to the apartment to open Max 's last gift to her -- a ukulele . The Mother spends the next few years grieving the passing of the man she believes was her one true love . In `` Wait for It '' , it is revealed that the short story of how they met involved her yellow umbrella . In `` No Tomorrow '' , Ted finds the umbrella at a club and takes it home after attending a St. Patrick 's Day party which she also attended , as it had been two and a half years since the death of Max , her late boyfriend . She is still grieving , but her roommate Kelly encourages her to go out and date again , bringing her to the same bar where Ted and Barney are celebrating . The two women run into Mitch , her old orchestra instructor ; The Mother offers to give Mitch her cello for his work at a school and they head to her apartment . After they start talking , Mitch encourages her to pursue her dreams . The Mother expresses her desire to end poverty by taking up economics in college . On his first day of teaching as Professor Mosby , as seen in the season                                                                                                                                                                                                                                                                                                                                                                                                                                                                                                                                                                                                                                                                                                                                                                                                                                                                                                                                                                                                                                                                                      \n",
              "2  Human fertilization - wikipedia Human fertilization Jump to : navigation , search Part of a series on Human growth and development Stages Human embryogenesis Fetus Infant Toddler Early childhood Child Preadolescence Adolescence Adult Middle age Old age Biological milestones Fertilization Childbirth Walking Language acquisition Puberty Menopause Ageing Death Development and psychology Pre - and perinatal Infant and child Adolescent Youth Young adult Adult Maturity Developmental stage theories Attachment Ecological Psychosocial Psychosexual development Moral Cognitive Cultural - historical Evolutionary Human body portal The acrosome reaction for a sea urchin , a similar process . Note that the picture shows several stages of one and the same spermatozoon - only one penetrates the ovum Illustration depicting ovulation and fertilization . Human fertilization is the union of a human egg and sperm , usually occurring in the ampulla of the fallopian tube . The result of this union is the production of a zygote cell , or fertilized egg , initiating prenatal development . Scientists discovered the dynamics of human fertilization in the nineteenth century . The process of fertilization involves a sperm fusing with an ovum . The most common sequence begins with ejaculation during copulation , follows with ovulation , and finishes with fertilization . Various exceptions to this sequence are possible , including artificial insemination , in vitro fertilization , external ejaculation without copulation , or copulation shortly after ovulation . Upon encountering the secondary oocyte , the acrosome of the sperm produces enzymes which allow it to burrow through the outer jelly coat of the egg . The sperm plasma then fuses with the egg 's plasma membrane , the sperm head disconnects from its flagellum and the egg travels down the Fallopian tube to reach the uterus . In vitro fertilization ( IVF ) is a process by which egg cells are fertilized by sperm outside the womb , in vitro . Contents ( hide ) 1 Anatomy 1.1 Corona radiata 1.2 Cone of attraction and perivitelline membrane 1.3 Sperm preparation 1.4 Zona pellucida 1.4. 1 Cortical reaction 2 Fusion 2.1 Cell membranes 2.2 Transformations 2.3 Replication 2.4 Mitosis 3 Fertilization age 4 Diseases 5 See also 6 References 7 External links Anatomy ( edit ) Corona radiata ( edit ) The sperm binds through the corona radiata , a layer of follicle cells on the outside of the secondary oocyte . Fertilization occurs when the nucleus of both a sperm and an egg fuse to form a diploid cell , known as zygote . The successful fusion of gametes forms a new organism . Cone of attraction and perivitelline membrane ( edit ) Where the spermatozoon is about to pierce , the yolk ( ooplasm ) is drawn out into a conical elevation , termed the cone of attraction or reception cone . Once the spermatozoon has entered , the peripheral portion of the yolk changes into a membrane , the perivitelline membrane , which prevents the passage of additional spermatozoa . Sperm preparation ( edit ) Further information : Acrosome reaction At the beginning of the process , the sperm undergoes a series of changes , as freshly ejaculated sperm is unable or poorly able to fertilize . The sperm must undergo capacitation in the female 's reproductive tract over several hours , which increases its motility and destabilizes its membrane , preparing it for the acrosome reaction , the enzymatic penetration of the egg 's tough membrane , the zona pellucida , which surrounds the oocyte . Zona pellucida ( edit ) After binding to the corona radiata the sperm reaches the zona pellucida , which is an extra-cellular matrix of glycoproteins . A special complementary molecule on the surface of the sperm head binds to a ZP3 glycoprotein in the zona pellucida . This binding triggers the acrosome to burst , releasing enzymes that help the sperm get through the zona pellucida . Some sperm cells consume their acrosome prematurely on the surface of the egg cell , facilitating the penetration by other sperm cells . As a population , sperm cells have on average 50 % genome similarity so the premature acrosomal reactions aid fertilization by a member of the same cohort . It may be regarded as a mechanism of kin selection . Recent studies have shown that the egg is not passive during this process . Cortical reaction ( edit ) Once the sperm cells find their way past the zona pellucida , the cortical reaction occurs . Cortical granules inside the secondary oocyte fuse with the plasma membrane of the cell , causing enzymes inside these granules to be expelled by exocytosis to the zona pellucida . This in turn causes the glyco - proteins in the zona pellucida to cross-link with each other -- i.e. the enzymes cause the ZP2 to hydrolyse into ZP2f -- making the whole matrix hard and impermeable to sperm . This prevents fertilization of an egg by more than one sperm . The cortical reaction and acrosome reaction are both essential to ensure that only one sperm will fertilize an egg . Fusion ( edit ) Fertilization and implantation in humans . After the sperm enters the cytoplasm of the oocyte ( also called ovocyte ) , the tail and the outer coating of the sperm disintegrate and the cortical reaction takes place , preventing other sperm from fertilizing the same egg . The oocyte now undergoes its second meiotic division producing the haploid ovum and releasing a polar body . The sperm nucleus then fuses with the ovum , enabling fusion of their genetic material . Cell membranes ( edit ) The fusion of cell membranes of the secondary oocyte and sperm takes place . Transformations ( edit ) In preparation for the fusion of their genetic material both the oocyte and the sperm undergo transformations as a reaction to the fusion of cell membranes . The oocyte completes its second meiotic division . This results in a mature ovum . The nucleus                                                                                                                                                                                                                  \n",
              "3  List of National Football League career quarterback wins leaders - wikipedia List of National Football League career quarterback wins leaders Jump to : navigation , search NFL lists Current season ( show ) 2017 season Quarterbacks ( show ) Starting quarterbacks by touchdowns / touchdowns ( playoffs ) / yardage / 5000 yard seasons / completion by team BUF MIA NE NYJ BAL CIN CLE PIT HOU IND JAX TEN DEN KC LAC OAK DAL NYG PHI WAS CHI DET GB MIN ATL CAR NO TB ARI LAR SF SEA Most wins Playoff records Most consecutive starts Most consecutive games with touchdown pass Win -- loss records 2012 Running backs ( show ) Career rushing attempts leaders Career rushing yards leaders Career rushing touchdowns leaders Annual rushing yards leaders Annual rushing touchdowns leaders 2,000 - yard club 1,000 - yard duos Receivers ( show ) Career receptions leaders Career receiving yards leaders Career receiving touchdowns leaders Annual receptions leaders Annual receiving yards leaders Annual receiving touchdowns leaders Defense ( show ) Career sacks leaders Annual sacks leaders Career interceptions leaders Annual interceptions leaders Special teams ( show ) Longest field goals Career field goals leaders Career punting yards leaders Career punt return yards leaders Career kickoff return yards leaders Annual field goals leaders Annual punting yards leaders Annual punt return yards leaders Annual kickoff return yards leaders Other lists ( show ) Most consecutive starts ( and games played ) Career all - purpose yards leaders Career scoring leaders Brett Favre 's career achievements Peyton Manning 's career achievements The following is a list of the top National Football League ( NFL ) quarterbacks in wins . In the NFL , the quarterback is the only position that is credited with records of wins and losses . Active quarterback Tom Brady holds the records for most wins with 220 , most regular season wins with 195 , and most postseason wins with 25 , as of Week 16 of the 2017 NFL season . Having played the entirety of his career with the New England Patriots , each of Brady 's win records also apply to wins with a single team . Among retired players , the record for most wins is held by Peyton Manning with 200 . In his final professional game , Manning set the then - record for wins , surpassing Brett Favre who retired with 199 wins . Other previous record - holders include John Elway ( 162 ) , Fran Tarkenton ( 130 ) , and Johnny Unitas ( 124 ) . Otto Graham holds the record for the highest winning percentage with a minimum of 35 wins at . 788 ( 61 wins to 16 losses ) . Contents ( hide ) 1 Quarterbacks with most total wins in NFL history 2 Next in Line 3 Quarterbacks with most regular season wins in NFL history 4 See also 5 References Quarterbacks with most total wins in NFL history ( edit ) This sortable table shows the top 100 NFL quarterbacks in order of total wins , both regular season and playoffs , since the start of the modern era , 1950 . The table also shows every team that a quarterback played for . If two quarterbacks have the same number of wins , the player with the highest winning percentage is ranked first . When sorting teams : Players are listed in order of number of wins for team . The following are grouped together Arizona , Phoenix and St. Louis Cardinals Los Angeles and St. Louis Rams Los Angeles and San Diego Chargers Oakland and Los Angeles Raiders Tennessee Titans and Houston Oilers Indianapolis and Baltimore Colts ( except 1950 Baltimore Colts , a separate franchise which folded ) To reset the table to its default sorting settings , simply reload the page . Updated through the December 31 games . Active player Winning percentage ≥ . 600 Winning percentage ≥ . 700 Hall of Fame Quarterbacks ranked by total wins , then winning percentage Rank Quarterback Seasons Teams Regular Season Playoffs Career wins Career losses Ties Win Pct Updated through Tom Brady 2000 -- present New England a ! New England 196 55 25 9 221 64 0 . 775 Week 17 Peyton Manning 1998 -- 2011 Indianapolis A ! Indianapolis Colts 141 67 9 10 200 92 0 . 685 2012 -- 2015 Denver B ! Denver 45 12 5 Brett Favre 1991 Atlanta F ! Atlanta 0 0 199 123 0 . 618 1992 -- 2007 Green Bay a ! Green Bay 160 93 12 10 2008 NY Jets E ! New York Jets 9 7 2009 -- 2010 Minnesota F ! Minnesota 17 12 John Elway 1983 -- 1998 Denver A ! Denver 148 82 14 7 162 89 . 645 5 Dan Marino 1983 -- 1999 Miami a ! Miami 147 93 8 10 155 103 0 . 601 6 Ben Roethlisberger 2004 -- present Pittsburgh A ! Pittsburgh 135 63 13 7 148 70 0 . 679 Week 17 7 Drew Brees 2001 -- 2005 San Diego Chargers 30 28 0 148 111 0 . 571 2006 -- present New Orleans a ! New Orleans 112 78 6 Week 17 8 Joe Montana 1979 -- 1992 San Francisco a ! San Francisco 100 39 14 5 133 54 0 . 711 1993 -- 1994 Kansas City E ! Kansas City 17 8 9 Fran Tarkenton 1961 -- 1966 1972 -- 1978 Minnesota a ! Minnesota 91 73 6 5 130 114 6 . 533 1967 -- 1971 NY Giants E ! New York Giants 33 36 10 Johnny Unitas 1956 -- 1972 Indianapolis B ! Baltimore Colts 117 61 6 124 66 . 649 1973 San Diego Chargers 11 Terry Bradshaw 1970 -- 1983 Pittsburgh b ! Pittsburgh 107 51 14 5 121 56 0 . 684 12 Eli Manning 2004 -- present NY Giants a ! New York Giants 111 103 8 119 107                                                                                                                                                                                                                                                                                                                                                                                                                                                                                                                                                                                                                                                                                                                                                                                                                                                                                                                   \n",
              "4  Roanoke Colony - wikipedia Roanoke Colony Jump to : navigation , search `` Lost Colony '' redirects here . For other uses , see Lost Colony ( disambiguation ) . This article 's lead section does not adequately summarize key points of its contents . Please consider expanding the lead to provide an accessible overview of all important aspects of the article . Please discuss this issue on the article 's talk page . ( March 2018 ) Roanoke Colony Colony of England 1585 -- c. 1590 Virginea Pars map , drawn by John White during his initial visit in 1585 . Roanoke is the small pink island in the middle right of the map . History Established 1585 Birth of Virginia Dare August 18 , 1587 Abandoned Before August c. 1590 Found abandoned August 18 , 1590 Population 1587 116 Today part of United States Dare County , North Carolina The Roanoke Colony ( / ˈroʊəˌnoʊk / ) , also known as the Lost Colony , was established in 1585 on Roanoke Island in what is today 's Dare County , North Carolina . It was a late 16th - century attempt by Queen Elizabeth I to establish a permanent English settlement in North America . The colony was founded by Sir Walter Raleigh . The colonists disappeared during the Anglo - Spanish War , three years after the last shipment of supplies from England . Their disappearance gave rise to the nickname `` The Lost Colony '' . There is no conclusive evidence as to what happened to the colonists . Contents ( hide ) 1 Background 2 Raleigh 's charter 3 First voyages to Roanoke Island 3.1 In the New World 4 Lost Colony 4.1 Return to the Lost Colony 5 Thomas Harriot 6 Investigations into Roanoke 7 Reports of John Smith and William Strachey 8 Hypotheses about the disappearance 8.1 Integration with local tribes 8.2 Other theories 8.2. 1 Spanish 8.2. 2 Dare Stones 8.2. 3 Virginia Pars Map 9 Archaeological evidence 10 Climate factors 11 Lost Colony of Roanoke DNA Project 12 In popular culture 12.1 Books 12.2 Comics 12.3 Film 12.4 TV 12.5 Internet 13 See also 14 References 15 Further reading 16 External links Background The enterprise was originally financed and organized by Sir Humphrey Gilbert , who drowned in 1583 returning from a voyage to the fishing settlement at St. John 's , Newfoundland . Sir Humphrey Gilbert 's half - brother Sir Walter Raleigh later gained his brother 's charter from the Queen and subsequently executed the details of the charter through his delegates Ralph Lane and Richard Grenville , Raleigh 's distant cousin . Raleigh 's charter A watercolor of the fort in Guyanailla Bay , which is likely similar to the fort constructed on Roanoke On March 25 , 1584 , Queen Elizabeth I granted Raleigh a charter for the colonization of the area of North America . This charter specified that Raleigh needed to establish a colony in North America , or lose his right to colonization . The Queen and Raleigh intended that the venture should provide riches from the New World . The queen 's charter said that Raleigh was supposed to `` discover , search , find out , and view such remote heathen and barbarous Lands , Countries , and territories ... to have , hold , occupy , and enjoy '' . The queen 's charter also said that Raleigh was supposed to establish a base from which to send privateers on raids against the treasure fleets of Spain . The purpose of these raids was to tell Spain that England was ready for war . The original charter basically told Raleigh to establish a military base to counteract the activities of the Spaniards . Raleigh himself never visited North America , although he led expeditions in 1595 and 1617 to South America 's Orinoco River basin in search of the legendary golden city of El Dorado . First Voyages to Roanoke Island On April 27 , 1584 , Raleigh dispatched an expedition led by Philip Amadas and Arthur Barlowe to explore the eastern coast of North America . They arrived on Roanoke Island on July 4 and soon established relations with the local natives , the Secotans and Croatans . Barlowe returned to England with two Croatans named Manteo and Wanchese , who were able to describe the politics and geography of the area to Raleigh . Based on the information given , Raleigh organized a second expedition , to be led by Sir Richard Grenville . Sir Walter Raleigh Grenville 's fleet departed Plymouth on April 9 , 1585 , with five main ships : Tiger ( Grenville 's ) , Roebuck , Red Lion , Elizabeth , and Dorothy . A severe storm off the coast of Portugal separated Tiger from the rest of the fleet . The captains had a contingency plan if they were separated , which was to meet up again in Puerto Rico , and Tiger arrived in the `` Baye of Muskito '' ( Guayanilla Bay ) on May 11 . While waiting for the other ships , Grenville established relations with the resident Spanish while simultaneously engaging in some privateering against them . He also built a fort . Elizabeth arrived soon after the fort 's construction . Grenville eventually tired of waiting for the remaining ships and departed on June 7 . The fort was abandoned , and its location remains unknown . Tiger sailed through Ocracoke Inlet on June 26 , but it struck a shoal , ruining most of the food supplies . The expedition succeeded in repairing the ship and , in early July , reunited with Roebuck and Dorothy , which had arrived in the Outer Banks with Red Lion some weeks previous . Red Lion had dropped off its passengers and left for Newfoundland for privateering . In the New World During the initial exploration of the mainland                                                                                                                                                                                                                                                                                                                                                                                                                                                                                                                                                                                                                              \n",
              "\n",
              "                                             question_text  \\\n",
              "0  which is the most common use of opt-in e-mail marketing   \n",
              "1  how i.met your mother who is the mother                   \n",
              "2  what type of fertilisation takes place in humans          \n",
              "3  who had the most wins in the nfl                          \n",
              "4  what happened to the lost settlement of roanoke           \n",
              "\n",
              "                                                                                                                       document_url  \n",
              "0  https://en.wikipedia.org//w/index.php?title=Email_marketing&amp;oldid=814071202                                                   \n",
              "1  https://en.wikipedia.org//w/index.php?title=The_Mother_(How_I_Met_Your_Mother)&amp;oldid=802354471                                \n",
              "2  https://en.wikipedia.org//w/index.php?title=Human_fertilization&amp;oldid=831042507                                               \n",
              "3  https://en.wikipedia.org//w/index.php?title=List_of_National_Football_League_career_quarterback_wins_leaders&amp;oldid=818143757  \n",
              "4  https://en.wikipedia.org//w/index.php?title=Roanoke_Colony&amp;oldid=843591647                                                    "
            ],
            "text/html": [
              "\n",
              "  <div id=\"df-58af4608-c583-4b15-85ec-cc25c8146d95\">\n",
              "    <div class=\"colab-df-container\">\n",
              "      <div>\n",
              "<style scoped>\n",
              "    .dataframe tbody tr th:only-of-type {\n",
              "        vertical-align: middle;\n",
              "    }\n",
              "\n",
              "    .dataframe tbody tr th {\n",
              "        vertical-align: top;\n",
              "    }\n",
              "\n",
              "    .dataframe thead th {\n",
              "        text-align: right;\n",
              "    }\n",
              "</style>\n",
              "<table border=\"1\" class=\"dataframe\">\n",
              "  <thead>\n",
              "    <tr style=\"text-align: right;\">\n",
              "      <th></th>\n",
              "      <th>doc_id</th>\n",
              "      <th>document_text</th>\n",
              "      <th>question_text</th>\n",
              "      <th>document_url</th>\n",
              "    </tr>\n",
              "  </thead>\n",
              "  <tbody>\n",
              "    <tr>\n",
              "      <th>0</th>\n",
              "      <td>0</td>\n",
              "      <td>Email marketing - Wikipedia Email marketing Jump to : navigation , search ( hide ) This article has multiple issues . Please help improve it or discuss these issues on the talk page . ( Learn how and when to remove these template messages ) This article needs additional citations for verification . Please help improve this article by adding citations to reliable sources . Unsourced material may be challenged and removed . ( September 2014 ) ( Learn how and when to remove this template message ) This article possibly contains original research . Please improve it by verifying the claims made and adding inline citations . Statements consisting only of original research should be removed . ( January 2015 ) ( Learn how and when to remove this template message ) ( Learn how and when to remove this template message ) Part of a series on Internet marketing Search engine optimization Local search engine optimisation Social media marketing Email marketing Referral marketing Content marketing Native advertising Search engine marketing Pay - per - click Cost per impression Search analytics Web analytics Display advertising Ad blocking Contextual advertising Behavioral targeting Affiliate marketing Cost per action Revenue sharing Mobile advertising Email marketing is the act of sending a commercial message , typically to a group of people , using email . In its broadest sense , every email sent to a potential or current customer could be considered email marketing . It usually involves using email to send advertisements , request business , or solicit sales or donations , and is meant to build loyalty , trust , or brand awareness . Marketing emails can be sent to a purchased lead list or a current customer database . The term usually refers to sending email messages with the purpose of enhancing a merchant 's relationship with current or previous customers , encouraging customer loyalty and repeat business , acquiring new customers or convincing current customers to purchase something immediately , and sharing third - party ads . Contents ( hide ) 1 History 2 Types 2.1 Transactional emails 2.2 Direct emails 2.2. 1 Mobile email marketing 3 Comparison to traditional mail 3.1 Advantages 3.2 Disadvantages 4 Opt - in email advertising 5 Legal requirements 5.1 Australia 5.2 Canada 5.3 European Union 5.4 United States 6 See also 7 References History Email marketing has evolved rapidly alongside the technological growth of the 21st century . Prior to this growth , when emails were novelties to the majority of customers , email marketing was not as effective . In 1978 , Gary Thuerk of Digital Equipment Corporation ( DEC ) sent out the first mass email to approximately 400 potential clients via the Advanced Research Projects Agency Network ( ARPANET ) . This email resulted in $13 million worth of sales in DEC products , and highlighted the potential of marketing through mass emails . However , as email marketing developed as an effective means of direct communication , users began blocking out content from emails with filters and blocking programs . In order to effectively communicate a message through email , marketers had to develop a way of pushing content through to the end user , without being cut out by automatic filters and spam removing software . This resulted in the birth of triggered marketing emails , which are sent to specific users based on their tracked online browsing patterns . Historically , it has been difficult to measure the effectiveness of marketing campaigns because target markets can not be adequately defined . Email marketing carries the benefit of allowing marketers to identify returns on investment and measure and improve efficiency . Email marketing allows marketers to see feedback from users in real time , and to monitor how effective their campaign is in achieving market penetration , revealing a communication channel 's scope . At the same time , however , it also means that the more personal nature of certain advertising methods , such as television advertisements , can not be captured . Types Email marketing can be carried out through different types of emails : Transactional emails Transactional emails are usually triggered based on a customer 's action with a company . To be qualified as transactional or relationship messages , these communications ' primary purpose must be `` to facilitate , complete , or confirm a commercial transaction that the recipient has previously agreed to enter into with the sender '' along with a few other narrow definitions of transactional messaging . Triggered transactional messages include dropped basket messages , password reset emails , purchase or order confirmation emails , order status emails , reorder emails , and email receipts . The primary purpose of a transactional email is to convey information regarding the action that triggered it . But , due to their high open rates ( 51.3 % compared to 36.6 % for email newsletters ) , transactional emails are an opportunity to introduce or extend the email relationship with customers or subscribers ; to anticipate and answer questions ; or to cross-sell or up - sell products or services . Many email newsletter software vendors offer transactional email support , which gives companies the ability to include promotional messages within the body of transactional emails . There are also software vendors that offer specialized transactional email marketing services , which include providing targeted and personalized transactional email messages and running specific marketing campaigns ( such as customer referral programs ) . Direct emails Direct email involves sending an email solely to communicate a promotional message ( for example , a special offer or a product catalog ) . Companies usually collect a list of customer or prospect email addresses to send direct promotional messages to , or they rent a list of email addresses from service companies . Safe mail marketing is also used . Mobile email marketing Email marketing develops large amounts of traffic through smartphones and tablets . Marketers are</td>\n",
              "      <td>which is the most common use of opt-in e-mail marketing</td>\n",
              "      <td>https://en.wikipedia.org//w/index.php?title=Email_marketing&amp;amp;oldid=814071202</td>\n",
              "    </tr>\n",
              "    <tr>\n",
              "      <th>1</th>\n",
              "      <td>1</td>\n",
              "      <td>The Mother ( How I Met Your Mother ) - wikipedia The Mother ( How I Met Your Mother ) Jump to : navigation , search Tracy McConnell How I Met Your Mother character The Mother appearing in `` The Locket '' First appearance `` Lucky Penny ( unseen ) '' `` Something New '' ( seen ) Last appearance `` Last Forever '' Created by Carter Bays Craig Thomas Portrayed by Cristin Milioti Information Aliases The Mother Gender Female Spouse ( s ) Ted Mosby Significant other ( s ) Max ( deceased former boyfriend ) Louis ( ex-boyfriend ) Children Penny Mosby ( daughter , born in 2015 , played by Lyndsy Fonseca ) Luke Mosby ( son , born in 2017 , played by David Henrie ) Nationality American Tracy McConnell , better known as `` The Mother '' , is the title character from the CBS television sitcom How I Met Your Mother . The show , narrated by Future Ted , tells the story of how Ted Mosby met The Mother . Tracy McConnell appears in 8 episodes from `` Lucky Penny '' to `` The Time Travelers '' as an unseen character ; she was first seen fully in `` Something New '' and was promoted to a main character in season 9 . The Mother is played by Cristin Milioti . The story of how Ted met The Mother is the framing device behind the series ; many facts about her are revealed throughout the series , including the fact that Ted once unwittingly owned her umbrella before accidentally leaving it behind in her apartment . Ted and The Mother meet at the Farhampton train station following Barney Stinson and Robin Scherbatsky 's wedding ; this scene is shown in `` Last Forever '' , the series finale . The Mother 's death from an unspecified terminal illness in 2024 , also revealed in the series finale , received a mixed reaction from fans . An alternate ending was released in the ninth season DVD . In the alternate ending , Tracy Mosby is still living when Ted is telling the story in 2030 . In the video , future Ted is heard saying , `` ... When I think how lucky I am to wake up next to your mom every morning , I ca n't help but be amazed how easy it all really was ... '' , indirectly stating that The Mother is alive . The video ends right after the train passes at Farhampton station and credits start rolling , implying that Ted never went back to Robin as he lived a successful married life with Tracy Mosby . Contents ( hide ) 1 Casting 2 Character history 2.1 Name 3 Death 4 Notes 5 References Casting ( edit ) During its first eight seasons , the successful sitcom How I Met Your Mother often hinted at the unseen character of The Mother . Well - known actresses often made guest appearances on the show . Many fans expected that another would play one of the most - wanted roles in Hollywood , but creators Carter Bays and Craig Thomas wanted an unknown . Using Anne Hathaway and Amy Adams as examples , Thomas said that `` We did n't want it to be a big famous star because we did n't want the wider audience to have associations with whatever actress this would be ... The whole idea is that Ted 's never seen this woman before , so it better feel that way to the audience '' , similar to how Cobie Smulders being cast as Robin Scherbatsky had `` kept the show alive '' when it began . Bays and Thomas also did not want a large casting call . They chose Cristin Milioti after seeing her on 30 Rock and Once ; her musical ability was also helpful , as The Mother had been described as a band member . After competing for the role against at least two others , Milioti filmed her first scene -- for the last episode of season 8 -- having never watched How I Met Your Mother ; she recalled , `` I had ignorance on my side . So I did n't know what it meant . '' Milioti learned of the character 's importance only after binge watching the show during the summer . Character history ( edit ) The Mother was born on September 19 , 1984 . The Mother , joined by her roommate Kelly awaits the arrival of her boyfriend Max only to receive a call informing her of his death . After the funeral service , she returns to the apartment to open Max 's last gift to her -- a ukulele . The Mother spends the next few years grieving the passing of the man she believes was her one true love . In `` Wait for It '' , it is revealed that the short story of how they met involved her yellow umbrella . In `` No Tomorrow '' , Ted finds the umbrella at a club and takes it home after attending a St. Patrick 's Day party which she also attended , as it had been two and a half years since the death of Max , her late boyfriend . She is still grieving , but her roommate Kelly encourages her to go out and date again , bringing her to the same bar where Ted and Barney are celebrating . The two women run into Mitch , her old orchestra instructor ; The Mother offers to give Mitch her cello for his work at a school and they head to her apartment . After they start talking , Mitch encourages her to pursue her dreams . The Mother expresses her desire to end poverty by taking up economics in college . On his first day of teaching as Professor Mosby , as seen in the season</td>\n",
              "      <td>how i.met your mother who is the mother</td>\n",
              "      <td>https://en.wikipedia.org//w/index.php?title=The_Mother_(How_I_Met_Your_Mother)&amp;amp;oldid=802354471</td>\n",
              "    </tr>\n",
              "    <tr>\n",
              "      <th>2</th>\n",
              "      <td>2</td>\n",
              "      <td>Human fertilization - wikipedia Human fertilization Jump to : navigation , search Part of a series on Human growth and development Stages Human embryogenesis Fetus Infant Toddler Early childhood Child Preadolescence Adolescence Adult Middle age Old age Biological milestones Fertilization Childbirth Walking Language acquisition Puberty Menopause Ageing Death Development and psychology Pre - and perinatal Infant and child Adolescent Youth Young adult Adult Maturity Developmental stage theories Attachment Ecological Psychosocial Psychosexual development Moral Cognitive Cultural - historical Evolutionary Human body portal The acrosome reaction for a sea urchin , a similar process . Note that the picture shows several stages of one and the same spermatozoon - only one penetrates the ovum Illustration depicting ovulation and fertilization . Human fertilization is the union of a human egg and sperm , usually occurring in the ampulla of the fallopian tube . The result of this union is the production of a zygote cell , or fertilized egg , initiating prenatal development . Scientists discovered the dynamics of human fertilization in the nineteenth century . The process of fertilization involves a sperm fusing with an ovum . The most common sequence begins with ejaculation during copulation , follows with ovulation , and finishes with fertilization . Various exceptions to this sequence are possible , including artificial insemination , in vitro fertilization , external ejaculation without copulation , or copulation shortly after ovulation . Upon encountering the secondary oocyte , the acrosome of the sperm produces enzymes which allow it to burrow through the outer jelly coat of the egg . The sperm plasma then fuses with the egg 's plasma membrane , the sperm head disconnects from its flagellum and the egg travels down the Fallopian tube to reach the uterus . In vitro fertilization ( IVF ) is a process by which egg cells are fertilized by sperm outside the womb , in vitro . Contents ( hide ) 1 Anatomy 1.1 Corona radiata 1.2 Cone of attraction and perivitelline membrane 1.3 Sperm preparation 1.4 Zona pellucida 1.4. 1 Cortical reaction 2 Fusion 2.1 Cell membranes 2.2 Transformations 2.3 Replication 2.4 Mitosis 3 Fertilization age 4 Diseases 5 See also 6 References 7 External links Anatomy ( edit ) Corona radiata ( edit ) The sperm binds through the corona radiata , a layer of follicle cells on the outside of the secondary oocyte . Fertilization occurs when the nucleus of both a sperm and an egg fuse to form a diploid cell , known as zygote . The successful fusion of gametes forms a new organism . Cone of attraction and perivitelline membrane ( edit ) Where the spermatozoon is about to pierce , the yolk ( ooplasm ) is drawn out into a conical elevation , termed the cone of attraction or reception cone . Once the spermatozoon has entered , the peripheral portion of the yolk changes into a membrane , the perivitelline membrane , which prevents the passage of additional spermatozoa . Sperm preparation ( edit ) Further information : Acrosome reaction At the beginning of the process , the sperm undergoes a series of changes , as freshly ejaculated sperm is unable or poorly able to fertilize . The sperm must undergo capacitation in the female 's reproductive tract over several hours , which increases its motility and destabilizes its membrane , preparing it for the acrosome reaction , the enzymatic penetration of the egg 's tough membrane , the zona pellucida , which surrounds the oocyte . Zona pellucida ( edit ) After binding to the corona radiata the sperm reaches the zona pellucida , which is an extra-cellular matrix of glycoproteins . A special complementary molecule on the surface of the sperm head binds to a ZP3 glycoprotein in the zona pellucida . This binding triggers the acrosome to burst , releasing enzymes that help the sperm get through the zona pellucida . Some sperm cells consume their acrosome prematurely on the surface of the egg cell , facilitating the penetration by other sperm cells . As a population , sperm cells have on average 50 % genome similarity so the premature acrosomal reactions aid fertilization by a member of the same cohort . It may be regarded as a mechanism of kin selection . Recent studies have shown that the egg is not passive during this process . Cortical reaction ( edit ) Once the sperm cells find their way past the zona pellucida , the cortical reaction occurs . Cortical granules inside the secondary oocyte fuse with the plasma membrane of the cell , causing enzymes inside these granules to be expelled by exocytosis to the zona pellucida . This in turn causes the glyco - proteins in the zona pellucida to cross-link with each other -- i.e. the enzymes cause the ZP2 to hydrolyse into ZP2f -- making the whole matrix hard and impermeable to sperm . This prevents fertilization of an egg by more than one sperm . The cortical reaction and acrosome reaction are both essential to ensure that only one sperm will fertilize an egg . Fusion ( edit ) Fertilization and implantation in humans . After the sperm enters the cytoplasm of the oocyte ( also called ovocyte ) , the tail and the outer coating of the sperm disintegrate and the cortical reaction takes place , preventing other sperm from fertilizing the same egg . The oocyte now undergoes its second meiotic division producing the haploid ovum and releasing a polar body . The sperm nucleus then fuses with the ovum , enabling fusion of their genetic material . Cell membranes ( edit ) The fusion of cell membranes of the secondary oocyte and sperm takes place . Transformations ( edit ) In preparation for the fusion of their genetic material both the oocyte and the sperm undergo transformations as a reaction to the fusion of cell membranes . The oocyte completes its second meiotic division . This results in a mature ovum . The nucleus</td>\n",
              "      <td>what type of fertilisation takes place in humans</td>\n",
              "      <td>https://en.wikipedia.org//w/index.php?title=Human_fertilization&amp;amp;oldid=831042507</td>\n",
              "    </tr>\n",
              "    <tr>\n",
              "      <th>3</th>\n",
              "      <td>3</td>\n",
              "      <td>List of National Football League career quarterback wins leaders - wikipedia List of National Football League career quarterback wins leaders Jump to : navigation , search NFL lists Current season ( show ) 2017 season Quarterbacks ( show ) Starting quarterbacks by touchdowns / touchdowns ( playoffs ) / yardage / 5000 yard seasons / completion by team BUF MIA NE NYJ BAL CIN CLE PIT HOU IND JAX TEN DEN KC LAC OAK DAL NYG PHI WAS CHI DET GB MIN ATL CAR NO TB ARI LAR SF SEA Most wins Playoff records Most consecutive starts Most consecutive games with touchdown pass Win -- loss records 2012 Running backs ( show ) Career rushing attempts leaders Career rushing yards leaders Career rushing touchdowns leaders Annual rushing yards leaders Annual rushing touchdowns leaders 2,000 - yard club 1,000 - yard duos Receivers ( show ) Career receptions leaders Career receiving yards leaders Career receiving touchdowns leaders Annual receptions leaders Annual receiving yards leaders Annual receiving touchdowns leaders Defense ( show ) Career sacks leaders Annual sacks leaders Career interceptions leaders Annual interceptions leaders Special teams ( show ) Longest field goals Career field goals leaders Career punting yards leaders Career punt return yards leaders Career kickoff return yards leaders Annual field goals leaders Annual punting yards leaders Annual punt return yards leaders Annual kickoff return yards leaders Other lists ( show ) Most consecutive starts ( and games played ) Career all - purpose yards leaders Career scoring leaders Brett Favre 's career achievements Peyton Manning 's career achievements The following is a list of the top National Football League ( NFL ) quarterbacks in wins . In the NFL , the quarterback is the only position that is credited with records of wins and losses . Active quarterback Tom Brady holds the records for most wins with 220 , most regular season wins with 195 , and most postseason wins with 25 , as of Week 16 of the 2017 NFL season . Having played the entirety of his career with the New England Patriots , each of Brady 's win records also apply to wins with a single team . Among retired players , the record for most wins is held by Peyton Manning with 200 . In his final professional game , Manning set the then - record for wins , surpassing Brett Favre who retired with 199 wins . Other previous record - holders include John Elway ( 162 ) , Fran Tarkenton ( 130 ) , and Johnny Unitas ( 124 ) . Otto Graham holds the record for the highest winning percentage with a minimum of 35 wins at . 788 ( 61 wins to 16 losses ) . Contents ( hide ) 1 Quarterbacks with most total wins in NFL history 2 Next in Line 3 Quarterbacks with most regular season wins in NFL history 4 See also 5 References Quarterbacks with most total wins in NFL history ( edit ) This sortable table shows the top 100 NFL quarterbacks in order of total wins , both regular season and playoffs , since the start of the modern era , 1950 . The table also shows every team that a quarterback played for . If two quarterbacks have the same number of wins , the player with the highest winning percentage is ranked first . When sorting teams : Players are listed in order of number of wins for team . The following are grouped together Arizona , Phoenix and St. Louis Cardinals Los Angeles and St. Louis Rams Los Angeles and San Diego Chargers Oakland and Los Angeles Raiders Tennessee Titans and Houston Oilers Indianapolis and Baltimore Colts ( except 1950 Baltimore Colts , a separate franchise which folded ) To reset the table to its default sorting settings , simply reload the page . Updated through the December 31 games . Active player Winning percentage ≥ . 600 Winning percentage ≥ . 700 Hall of Fame Quarterbacks ranked by total wins , then winning percentage Rank Quarterback Seasons Teams Regular Season Playoffs Career wins Career losses Ties Win Pct Updated through Tom Brady 2000 -- present New England a ! New England 196 55 25 9 221 64 0 . 775 Week 17 Peyton Manning 1998 -- 2011 Indianapolis A ! Indianapolis Colts 141 67 9 10 200 92 0 . 685 2012 -- 2015 Denver B ! Denver 45 12 5 Brett Favre 1991 Atlanta F ! Atlanta 0 0 199 123 0 . 618 1992 -- 2007 Green Bay a ! Green Bay 160 93 12 10 2008 NY Jets E ! New York Jets 9 7 2009 -- 2010 Minnesota F ! Minnesota 17 12 John Elway 1983 -- 1998 Denver A ! Denver 148 82 14 7 162 89 . 645 5 Dan Marino 1983 -- 1999 Miami a ! Miami 147 93 8 10 155 103 0 . 601 6 Ben Roethlisberger 2004 -- present Pittsburgh A ! Pittsburgh 135 63 13 7 148 70 0 . 679 Week 17 7 Drew Brees 2001 -- 2005 San Diego Chargers 30 28 0 148 111 0 . 571 2006 -- present New Orleans a ! New Orleans 112 78 6 Week 17 8 Joe Montana 1979 -- 1992 San Francisco a ! San Francisco 100 39 14 5 133 54 0 . 711 1993 -- 1994 Kansas City E ! Kansas City 17 8 9 Fran Tarkenton 1961 -- 1966 1972 -- 1978 Minnesota a ! Minnesota 91 73 6 5 130 114 6 . 533 1967 -- 1971 NY Giants E ! New York Giants 33 36 10 Johnny Unitas 1956 -- 1972 Indianapolis B ! Baltimore Colts 117 61 6 124 66 . 649 1973 San Diego Chargers 11 Terry Bradshaw 1970 -- 1983 Pittsburgh b ! Pittsburgh 107 51 14 5 121 56 0 . 684 12 Eli Manning 2004 -- present NY Giants a ! New York Giants 111 103 8 119 107</td>\n",
              "      <td>who had the most wins in the nfl</td>\n",
              "      <td>https://en.wikipedia.org//w/index.php?title=List_of_National_Football_League_career_quarterback_wins_leaders&amp;amp;oldid=818143757</td>\n",
              "    </tr>\n",
              "    <tr>\n",
              "      <th>4</th>\n",
              "      <td>4</td>\n",
              "      <td>Roanoke Colony - wikipedia Roanoke Colony Jump to : navigation , search `` Lost Colony '' redirects here . For other uses , see Lost Colony ( disambiguation ) . This article 's lead section does not adequately summarize key points of its contents . Please consider expanding the lead to provide an accessible overview of all important aspects of the article . Please discuss this issue on the article 's talk page . ( March 2018 ) Roanoke Colony Colony of England 1585 -- c. 1590 Virginea Pars map , drawn by John White during his initial visit in 1585 . Roanoke is the small pink island in the middle right of the map . History Established 1585 Birth of Virginia Dare August 18 , 1587 Abandoned Before August c. 1590 Found abandoned August 18 , 1590 Population 1587 116 Today part of United States Dare County , North Carolina The Roanoke Colony ( / ˈroʊəˌnoʊk / ) , also known as the Lost Colony , was established in 1585 on Roanoke Island in what is today 's Dare County , North Carolina . It was a late 16th - century attempt by Queen Elizabeth I to establish a permanent English settlement in North America . The colony was founded by Sir Walter Raleigh . The colonists disappeared during the Anglo - Spanish War , three years after the last shipment of supplies from England . Their disappearance gave rise to the nickname `` The Lost Colony '' . There is no conclusive evidence as to what happened to the colonists . Contents ( hide ) 1 Background 2 Raleigh 's charter 3 First voyages to Roanoke Island 3.1 In the New World 4 Lost Colony 4.1 Return to the Lost Colony 5 Thomas Harriot 6 Investigations into Roanoke 7 Reports of John Smith and William Strachey 8 Hypotheses about the disappearance 8.1 Integration with local tribes 8.2 Other theories 8.2. 1 Spanish 8.2. 2 Dare Stones 8.2. 3 Virginia Pars Map 9 Archaeological evidence 10 Climate factors 11 Lost Colony of Roanoke DNA Project 12 In popular culture 12.1 Books 12.2 Comics 12.3 Film 12.4 TV 12.5 Internet 13 See also 14 References 15 Further reading 16 External links Background The enterprise was originally financed and organized by Sir Humphrey Gilbert , who drowned in 1583 returning from a voyage to the fishing settlement at St. John 's , Newfoundland . Sir Humphrey Gilbert 's half - brother Sir Walter Raleigh later gained his brother 's charter from the Queen and subsequently executed the details of the charter through his delegates Ralph Lane and Richard Grenville , Raleigh 's distant cousin . Raleigh 's charter A watercolor of the fort in Guyanailla Bay , which is likely similar to the fort constructed on Roanoke On March 25 , 1584 , Queen Elizabeth I granted Raleigh a charter for the colonization of the area of North America . This charter specified that Raleigh needed to establish a colony in North America , or lose his right to colonization . The Queen and Raleigh intended that the venture should provide riches from the New World . The queen 's charter said that Raleigh was supposed to `` discover , search , find out , and view such remote heathen and barbarous Lands , Countries , and territories ... to have , hold , occupy , and enjoy '' . The queen 's charter also said that Raleigh was supposed to establish a base from which to send privateers on raids against the treasure fleets of Spain . The purpose of these raids was to tell Spain that England was ready for war . The original charter basically told Raleigh to establish a military base to counteract the activities of the Spaniards . Raleigh himself never visited North America , although he led expeditions in 1595 and 1617 to South America 's Orinoco River basin in search of the legendary golden city of El Dorado . First Voyages to Roanoke Island On April 27 , 1584 , Raleigh dispatched an expedition led by Philip Amadas and Arthur Barlowe to explore the eastern coast of North America . They arrived on Roanoke Island on July 4 and soon established relations with the local natives , the Secotans and Croatans . Barlowe returned to England with two Croatans named Manteo and Wanchese , who were able to describe the politics and geography of the area to Raleigh . Based on the information given , Raleigh organized a second expedition , to be led by Sir Richard Grenville . Sir Walter Raleigh Grenville 's fleet departed Plymouth on April 9 , 1585 , with five main ships : Tiger ( Grenville 's ) , Roebuck , Red Lion , Elizabeth , and Dorothy . A severe storm off the coast of Portugal separated Tiger from the rest of the fleet . The captains had a contingency plan if they were separated , which was to meet up again in Puerto Rico , and Tiger arrived in the `` Baye of Muskito '' ( Guayanilla Bay ) on May 11 . While waiting for the other ships , Grenville established relations with the resident Spanish while simultaneously engaging in some privateering against them . He also built a fort . Elizabeth arrived soon after the fort 's construction . Grenville eventually tired of waiting for the remaining ships and departed on June 7 . The fort was abandoned , and its location remains unknown . Tiger sailed through Ocracoke Inlet on June 26 , but it struck a shoal , ruining most of the food supplies . The expedition succeeded in repairing the ship and , in early July , reunited with Roebuck and Dorothy , which had arrived in the Outer Banks with Red Lion some weeks previous . Red Lion had dropped off its passengers and left for Newfoundland for privateering . In the New World During the initial exploration of the mainland</td>\n",
              "      <td>what happened to the lost settlement of roanoke</td>\n",
              "      <td>https://en.wikipedia.org//w/index.php?title=Roanoke_Colony&amp;amp;oldid=843591647</td>\n",
              "    </tr>\n",
              "  </tbody>\n",
              "</table>\n",
              "</div>\n",
              "      <button class=\"colab-df-convert\" onclick=\"convertToInteractive('df-58af4608-c583-4b15-85ec-cc25c8146d95')\"\n",
              "              title=\"Convert this dataframe to an interactive table.\"\n",
              "              style=\"display:none;\">\n",
              "        \n",
              "  <svg xmlns=\"http://www.w3.org/2000/svg\" height=\"24px\"viewBox=\"0 0 24 24\"\n",
              "       width=\"24px\">\n",
              "    <path d=\"M0 0h24v24H0V0z\" fill=\"none\"/>\n",
              "    <path d=\"M18.56 5.44l.94 2.06.94-2.06 2.06-.94-2.06-.94-.94-2.06-.94 2.06-2.06.94zm-11 1L8.5 8.5l.94-2.06 2.06-.94-2.06-.94L8.5 2.5l-.94 2.06-2.06.94zm10 10l.94 2.06.94-2.06 2.06-.94-2.06-.94-.94-2.06-.94 2.06-2.06.94z\"/><path d=\"M17.41 7.96l-1.37-1.37c-.4-.4-.92-.59-1.43-.59-.52 0-1.04.2-1.43.59L10.3 9.45l-7.72 7.72c-.78.78-.78 2.05 0 2.83L4 21.41c.39.39.9.59 1.41.59.51 0 1.02-.2 1.41-.59l7.78-7.78 2.81-2.81c.8-.78.8-2.07 0-2.86zM5.41 20L4 18.59l7.72-7.72 1.47 1.35L5.41 20z\"/>\n",
              "  </svg>\n",
              "      </button>\n",
              "      \n",
              "  <style>\n",
              "    .colab-df-container {\n",
              "      display:flex;\n",
              "      flex-wrap:wrap;\n",
              "      gap: 12px;\n",
              "    }\n",
              "\n",
              "    .colab-df-convert {\n",
              "      background-color: #E8F0FE;\n",
              "      border: none;\n",
              "      border-radius: 50%;\n",
              "      cursor: pointer;\n",
              "      display: none;\n",
              "      fill: #1967D2;\n",
              "      height: 32px;\n",
              "      padding: 0 0 0 0;\n",
              "      width: 32px;\n",
              "    }\n",
              "\n",
              "    .colab-df-convert:hover {\n",
              "      background-color: #E2EBFA;\n",
              "      box-shadow: 0px 1px 2px rgba(60, 64, 67, 0.3), 0px 1px 3px 1px rgba(60, 64, 67, 0.15);\n",
              "      fill: #174EA6;\n",
              "    }\n",
              "\n",
              "    [theme=dark] .colab-df-convert {\n",
              "      background-color: #3B4455;\n",
              "      fill: #D2E3FC;\n",
              "    }\n",
              "\n",
              "    [theme=dark] .colab-df-convert:hover {\n",
              "      background-color: #434B5C;\n",
              "      box-shadow: 0px 1px 3px 1px rgba(0, 0, 0, 0.15);\n",
              "      filter: drop-shadow(0px 1px 2px rgba(0, 0, 0, 0.3));\n",
              "      fill: #FFFFFF;\n",
              "    }\n",
              "  </style>\n",
              "\n",
              "      <script>\n",
              "        const buttonEl =\n",
              "          document.querySelector('#df-58af4608-c583-4b15-85ec-cc25c8146d95 button.colab-df-convert');\n",
              "        buttonEl.style.display =\n",
              "          google.colab.kernel.accessAllowed ? 'block' : 'none';\n",
              "\n",
              "        async function convertToInteractive(key) {\n",
              "          const element = document.querySelector('#df-58af4608-c583-4b15-85ec-cc25c8146d95');\n",
              "          const dataTable =\n",
              "            await google.colab.kernel.invokeFunction('convertToInteractive',\n",
              "                                                     [key], {});\n",
              "          if (!dataTable) return;\n",
              "\n",
              "          const docLinkHtml = 'Like what you see? Visit the ' +\n",
              "            '<a target=\"_blank\" href=https://colab.research.google.com/notebooks/data_table.ipynb>data table notebook</a>'\n",
              "            + ' to learn more about interactive tables.';\n",
              "          element.innerHTML = '';\n",
              "          dataTable['output_type'] = 'display_data';\n",
              "          await google.colab.output.renderOutput(dataTable, element);\n",
              "          const docLink = document.createElement('div');\n",
              "          docLink.innerHTML = docLinkHtml;\n",
              "          element.appendChild(docLink);\n",
              "        }\n",
              "      </script>\n",
              "    </div>\n",
              "  </div>\n",
              "  "
            ]
          },
          "metadata": {},
          "execution_count": 40
        }
      ]
    },
    {
      "cell_type": "code",
      "source": [
        ""
      ],
      "metadata": {
        "id": "pg0p_5alKupD"
      },
      "execution_count": null,
      "outputs": []
    }
  ]
}